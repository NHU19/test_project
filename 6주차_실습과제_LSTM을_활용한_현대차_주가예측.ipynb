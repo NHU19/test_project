{
  "nbformat": 4,
  "nbformat_minor": 0,
  "metadata": {
    "colab": {
      "name": "6주차_실습과제_LSTM을_활용한_현대차_주가예측.ipynb",
      "provenance": [],
      "collapsed_sections": [],
      "include_colab_link": true
    },
    "kernelspec": {
      "name": "python3",
      "display_name": "Python 3"
    },
    "language_info": {
      "name": "python"
    }
  },
  "cells": [
    {
      "cell_type": "markdown",
      "metadata": {
        "id": "view-in-github",
        "colab_type": "text"
      },
      "source": [
        "<a href=\"https://colab.research.google.com/github/NHU19/test_project/blob/main/6%EC%A3%BC%EC%B0%A8_%EC%8B%A4%EC%8A%B5%EA%B3%BC%EC%A0%9C_LSTM%EC%9D%84_%ED%99%9C%EC%9A%A9%ED%95%9C_%ED%98%84%EB%8C%80%EC%B0%A8_%EC%A3%BC%EA%B0%80%EC%98%88%EC%B8%A1.ipynb\" target=\"_parent\"><img src=\"https://colab.research.google.com/assets/colab-badge.svg\" alt=\"Open In Colab\"/></a>"
      ]
    },
    {
      "cell_type": "code",
      "execution_count": 1,
      "metadata": {
        "id": "a8P3iZKW7PrT"
      },
      "outputs": [],
      "source": [
        "import pandas as pd\n",
        "import numpy as np\n",
        "import matplotlib.pyplot as plt\n",
        "import seaborn as sns\n",
        "import warnings\n",
        "import os\n",
        "\n",
        "%matplotlib inline\n",
        "warnings.filterwarnings('ignore')\n",
        "plt.rcParams['figure.figsize'] = (15, 20)\n",
        "\n",
        "plt.rcParams['font.family'] = 'NanumGothic'"
      ]
    },
    {
      "cell_type": "code",
      "source": [
        "!pip install finance-datareader"
      ],
      "metadata": {
        "colab": {
          "base_uri": "https://localhost:8080/"
        },
        "id": "a6sE7VcK7l0a",
        "outputId": "54d8cd1c-cffd-4884-eb25-3f5a74602a54"
      },
      "execution_count": 2,
      "outputs": [
        {
          "output_type": "stream",
          "name": "stdout",
          "text": [
            "Looking in indexes: https://pypi.org/simple, https://us-python.pkg.dev/colab-wheels/public/simple/\n",
            "Collecting finance-datareader\n",
            "  Downloading finance_datareader-0.9.34-py3-none-any.whl (17 kB)\n",
            "Requirement already satisfied: requests>=2.3.0 in /usr/local/lib/python3.7/dist-packages (from finance-datareader) (2.23.0)\n",
            "Requirement already satisfied: tqdm in /usr/local/lib/python3.7/dist-packages (from finance-datareader) (4.64.0)\n",
            "Collecting requests-file\n",
            "  Downloading requests_file-1.5.1-py2.py3-none-any.whl (3.7 kB)\n",
            "Requirement already satisfied: pandas>=0.19.2 in /usr/local/lib/python3.7/dist-packages (from finance-datareader) (1.3.5)\n",
            "Requirement already satisfied: lxml in /usr/local/lib/python3.7/dist-packages (from finance-datareader) (4.2.6)\n",
            "Requirement already satisfied: numpy>=1.17.3 in /usr/local/lib/python3.7/dist-packages (from pandas>=0.19.2->finance-datareader) (1.21.6)\n",
            "Requirement already satisfied: python-dateutil>=2.7.3 in /usr/local/lib/python3.7/dist-packages (from pandas>=0.19.2->finance-datareader) (2.8.2)\n",
            "Requirement already satisfied: pytz>=2017.3 in /usr/local/lib/python3.7/dist-packages (from pandas>=0.19.2->finance-datareader) (2022.1)\n",
            "Requirement already satisfied: six>=1.5 in /usr/local/lib/python3.7/dist-packages (from python-dateutil>=2.7.3->pandas>=0.19.2->finance-datareader) (1.15.0)\n",
            "Requirement already satisfied: chardet<4,>=3.0.2 in /usr/local/lib/python3.7/dist-packages (from requests>=2.3.0->finance-datareader) (3.0.4)\n",
            "Requirement already satisfied: urllib3!=1.25.0,!=1.25.1,<1.26,>=1.21.1 in /usr/local/lib/python3.7/dist-packages (from requests>=2.3.0->finance-datareader) (1.24.3)\n",
            "Requirement already satisfied: idna<3,>=2.5 in /usr/local/lib/python3.7/dist-packages (from requests>=2.3.0->finance-datareader) (2.10)\n",
            "Requirement already satisfied: certifi>=2017.4.17 in /usr/local/lib/python3.7/dist-packages (from requests>=2.3.0->finance-datareader) (2022.6.15)\n",
            "Installing collected packages: requests-file, finance-datareader\n",
            "Successfully installed finance-datareader-0.9.34 requests-file-1.5.1\n"
          ]
        }
      ]
    },
    {
      "cell_type": "code",
      "source": [
        "import FinanceDataReader as fdr"
      ],
      "metadata": {
        "id": "bjBz-HCB7pcE"
      },
      "execution_count": 3,
      "outputs": []
    },
    {
      "cell_type": "code",
      "source": [
        "hyundai = fdr.DataReader('005380')"
      ],
      "metadata": {
        "id": "uWiKgkun7phk"
      },
      "execution_count": 6,
      "outputs": []
    },
    {
      "cell_type": "code",
      "source": [
        "hyundai.tail()"
      ],
      "metadata": {
        "colab": {
          "base_uri": "https://localhost:8080/",
          "height": 238
        },
        "id": "5cpy1zAS-aOf",
        "outputId": "7bf4ea4a-f3dd-4979-cfa9-72fe2615b951"
      },
      "execution_count": 7,
      "outputs": [
        {
          "output_type": "execute_result",
          "data": {
            "text/plain": [
              "              Open    High     Low   Close   Volume    Change\n",
              "Date                                                         \n",
              "2022-07-05  180000  181000  173500  177500  1097504 -0.002809\n",
              "2022-07-06  176000  177000  172000  172500   924184 -0.028169\n",
              "2022-07-07  175000  177000  172500  175000   536363  0.014493\n",
              "2022-07-08  177500  180500  177000  178000   824702  0.017143\n",
              "2022-07-11  180000  182000  179000  180000   455772  0.011236"
            ],
            "text/html": [
              "\n",
              "  <div id=\"df-18403162-bcd3-493c-8cfa-1364aaa46fd7\">\n",
              "    <div class=\"colab-df-container\">\n",
              "      <div>\n",
              "<style scoped>\n",
              "    .dataframe tbody tr th:only-of-type {\n",
              "        vertical-align: middle;\n",
              "    }\n",
              "\n",
              "    .dataframe tbody tr th {\n",
              "        vertical-align: top;\n",
              "    }\n",
              "\n",
              "    .dataframe thead th {\n",
              "        text-align: right;\n",
              "    }\n",
              "</style>\n",
              "<table border=\"1\" class=\"dataframe\">\n",
              "  <thead>\n",
              "    <tr style=\"text-align: right;\">\n",
              "      <th></th>\n",
              "      <th>Open</th>\n",
              "      <th>High</th>\n",
              "      <th>Low</th>\n",
              "      <th>Close</th>\n",
              "      <th>Volume</th>\n",
              "      <th>Change</th>\n",
              "    </tr>\n",
              "    <tr>\n",
              "      <th>Date</th>\n",
              "      <th></th>\n",
              "      <th></th>\n",
              "      <th></th>\n",
              "      <th></th>\n",
              "      <th></th>\n",
              "      <th></th>\n",
              "    </tr>\n",
              "  </thead>\n",
              "  <tbody>\n",
              "    <tr>\n",
              "      <th>2022-07-05</th>\n",
              "      <td>180000</td>\n",
              "      <td>181000</td>\n",
              "      <td>173500</td>\n",
              "      <td>177500</td>\n",
              "      <td>1097504</td>\n",
              "      <td>-0.002809</td>\n",
              "    </tr>\n",
              "    <tr>\n",
              "      <th>2022-07-06</th>\n",
              "      <td>176000</td>\n",
              "      <td>177000</td>\n",
              "      <td>172000</td>\n",
              "      <td>172500</td>\n",
              "      <td>924184</td>\n",
              "      <td>-0.028169</td>\n",
              "    </tr>\n",
              "    <tr>\n",
              "      <th>2022-07-07</th>\n",
              "      <td>175000</td>\n",
              "      <td>177000</td>\n",
              "      <td>172500</td>\n",
              "      <td>175000</td>\n",
              "      <td>536363</td>\n",
              "      <td>0.014493</td>\n",
              "    </tr>\n",
              "    <tr>\n",
              "      <th>2022-07-08</th>\n",
              "      <td>177500</td>\n",
              "      <td>180500</td>\n",
              "      <td>177000</td>\n",
              "      <td>178000</td>\n",
              "      <td>824702</td>\n",
              "      <td>0.017143</td>\n",
              "    </tr>\n",
              "    <tr>\n",
              "      <th>2022-07-11</th>\n",
              "      <td>180000</td>\n",
              "      <td>182000</td>\n",
              "      <td>179000</td>\n",
              "      <td>180000</td>\n",
              "      <td>455772</td>\n",
              "      <td>0.011236</td>\n",
              "    </tr>\n",
              "  </tbody>\n",
              "</table>\n",
              "</div>\n",
              "      <button class=\"colab-df-convert\" onclick=\"convertToInteractive('df-18403162-bcd3-493c-8cfa-1364aaa46fd7')\"\n",
              "              title=\"Convert this dataframe to an interactive table.\"\n",
              "              style=\"display:none;\">\n",
              "        \n",
              "  <svg xmlns=\"http://www.w3.org/2000/svg\" height=\"24px\"viewBox=\"0 0 24 24\"\n",
              "       width=\"24px\">\n",
              "    <path d=\"M0 0h24v24H0V0z\" fill=\"none\"/>\n",
              "    <path d=\"M18.56 5.44l.94 2.06.94-2.06 2.06-.94-2.06-.94-.94-2.06-.94 2.06-2.06.94zm-11 1L8.5 8.5l.94-2.06 2.06-.94-2.06-.94L8.5 2.5l-.94 2.06-2.06.94zm10 10l.94 2.06.94-2.06 2.06-.94-2.06-.94-.94-2.06-.94 2.06-2.06.94z\"/><path d=\"M17.41 7.96l-1.37-1.37c-.4-.4-.92-.59-1.43-.59-.52 0-1.04.2-1.43.59L10.3 9.45l-7.72 7.72c-.78.78-.78 2.05 0 2.83L4 21.41c.39.39.9.59 1.41.59.51 0 1.02-.2 1.41-.59l7.78-7.78 2.81-2.81c.8-.78.8-2.07 0-2.86zM5.41 20L4 18.59l7.72-7.72 1.47 1.35L5.41 20z\"/>\n",
              "  </svg>\n",
              "      </button>\n",
              "      \n",
              "  <style>\n",
              "    .colab-df-container {\n",
              "      display:flex;\n",
              "      flex-wrap:wrap;\n",
              "      gap: 12px;\n",
              "    }\n",
              "\n",
              "    .colab-df-convert {\n",
              "      background-color: #E8F0FE;\n",
              "      border: none;\n",
              "      border-radius: 50%;\n",
              "      cursor: pointer;\n",
              "      display: none;\n",
              "      fill: #1967D2;\n",
              "      height: 32px;\n",
              "      padding: 0 0 0 0;\n",
              "      width: 32px;\n",
              "    }\n",
              "\n",
              "    .colab-df-convert:hover {\n",
              "      background-color: #E2EBFA;\n",
              "      box-shadow: 0px 1px 2px rgba(60, 64, 67, 0.3), 0px 1px 3px 1px rgba(60, 64, 67, 0.15);\n",
              "      fill: #174EA6;\n",
              "    }\n",
              "\n",
              "    [theme=dark] .colab-df-convert {\n",
              "      background-color: #3B4455;\n",
              "      fill: #D2E3FC;\n",
              "    }\n",
              "\n",
              "    [theme=dark] .colab-df-convert:hover {\n",
              "      background-color: #434B5C;\n",
              "      box-shadow: 0px 1px 3px 1px rgba(0, 0, 0, 0.15);\n",
              "      filter: drop-shadow(0px 1px 2px rgba(0, 0, 0, 0.3));\n",
              "      fill: #FFFFFF;\n",
              "    }\n",
              "  </style>\n",
              "\n",
              "      <script>\n",
              "        const buttonEl =\n",
              "          document.querySelector('#df-18403162-bcd3-493c-8cfa-1364aaa46fd7 button.colab-df-convert');\n",
              "        buttonEl.style.display =\n",
              "          google.colab.kernel.accessAllowed ? 'block' : 'none';\n",
              "\n",
              "        async function convertToInteractive(key) {\n",
              "          const element = document.querySelector('#df-18403162-bcd3-493c-8cfa-1364aaa46fd7');\n",
              "          const dataTable =\n",
              "            await google.colab.kernel.invokeFunction('convertToInteractive',\n",
              "                                                     [key], {});\n",
              "          if (!dataTable) return;\n",
              "\n",
              "          const docLinkHtml = 'Like what you see? Visit the ' +\n",
              "            '<a target=\"_blank\" href=https://colab.research.google.com/notebooks/data_table.ipynb>data table notebook</a>'\n",
              "            + ' to learn more about interactive tables.';\n",
              "          element.innerHTML = '';\n",
              "          dataTable['output_type'] = 'display_data';\n",
              "          await google.colab.output.renderOutput(dataTable, element);\n",
              "          const docLink = document.createElement('div');\n",
              "          docLink.innerHTML = docLinkHtml;\n",
              "          element.appendChild(docLink);\n",
              "        }\n",
              "      </script>\n",
              "    </div>\n",
              "  </div>\n",
              "  "
            ]
          },
          "metadata": {},
          "execution_count": 7
        }
      ]
    },
    {
      "cell_type": "code",
      "source": [
        "STOCK_CODE = '005380'"
      ],
      "metadata": {
        "id": "nhI6-r4s_LVv"
      },
      "execution_count": 8,
      "outputs": []
    },
    {
      "cell_type": "code",
      "source": [
        "stock = fdr.DataReader(STOCK_CODE)"
      ],
      "metadata": {
        "id": "1vTTtarU_RJs"
      },
      "execution_count": 9,
      "outputs": []
    },
    {
      "cell_type": "code",
      "source": [
        "stock.head()"
      ],
      "metadata": {
        "colab": {
          "base_uri": "https://localhost:8080/",
          "height": 238
        },
        "id": "--BGB9KZ_Tgl",
        "outputId": "f256dc6f-bb62-44e9-c6a3-b79e483a6456"
      },
      "execution_count": 10,
      "outputs": [
        {
          "output_type": "execute_result",
          "data": {
            "text/plain": [
              "             Open   High    Low  Close  Volume    Change\n",
              "Date                                                    \n",
              "1998-05-07  11823  11823  11088  11355   60020       NaN\n",
              "1998-05-08  11222  11355  11088  11088   57320 -0.023514\n",
              "1998-05-09  11222  11522  11222  11355   29180  0.024080\n",
              "1998-05-11  11355  11355  11021  11021   34650 -0.029414\n",
              "1998-05-12  11155  11222  10687  10687   79080 -0.030306"
            ],
            "text/html": [
              "\n",
              "  <div id=\"df-5cebcda5-2154-4a8c-a363-6e03381c4776\">\n",
              "    <div class=\"colab-df-container\">\n",
              "      <div>\n",
              "<style scoped>\n",
              "    .dataframe tbody tr th:only-of-type {\n",
              "        vertical-align: middle;\n",
              "    }\n",
              "\n",
              "    .dataframe tbody tr th {\n",
              "        vertical-align: top;\n",
              "    }\n",
              "\n",
              "    .dataframe thead th {\n",
              "        text-align: right;\n",
              "    }\n",
              "</style>\n",
              "<table border=\"1\" class=\"dataframe\">\n",
              "  <thead>\n",
              "    <tr style=\"text-align: right;\">\n",
              "      <th></th>\n",
              "      <th>Open</th>\n",
              "      <th>High</th>\n",
              "      <th>Low</th>\n",
              "      <th>Close</th>\n",
              "      <th>Volume</th>\n",
              "      <th>Change</th>\n",
              "    </tr>\n",
              "    <tr>\n",
              "      <th>Date</th>\n",
              "      <th></th>\n",
              "      <th></th>\n",
              "      <th></th>\n",
              "      <th></th>\n",
              "      <th></th>\n",
              "      <th></th>\n",
              "    </tr>\n",
              "  </thead>\n",
              "  <tbody>\n",
              "    <tr>\n",
              "      <th>1998-05-07</th>\n",
              "      <td>11823</td>\n",
              "      <td>11823</td>\n",
              "      <td>11088</td>\n",
              "      <td>11355</td>\n",
              "      <td>60020</td>\n",
              "      <td>NaN</td>\n",
              "    </tr>\n",
              "    <tr>\n",
              "      <th>1998-05-08</th>\n",
              "      <td>11222</td>\n",
              "      <td>11355</td>\n",
              "      <td>11088</td>\n",
              "      <td>11088</td>\n",
              "      <td>57320</td>\n",
              "      <td>-0.023514</td>\n",
              "    </tr>\n",
              "    <tr>\n",
              "      <th>1998-05-09</th>\n",
              "      <td>11222</td>\n",
              "      <td>11522</td>\n",
              "      <td>11222</td>\n",
              "      <td>11355</td>\n",
              "      <td>29180</td>\n",
              "      <td>0.024080</td>\n",
              "    </tr>\n",
              "    <tr>\n",
              "      <th>1998-05-11</th>\n",
              "      <td>11355</td>\n",
              "      <td>11355</td>\n",
              "      <td>11021</td>\n",
              "      <td>11021</td>\n",
              "      <td>34650</td>\n",
              "      <td>-0.029414</td>\n",
              "    </tr>\n",
              "    <tr>\n",
              "      <th>1998-05-12</th>\n",
              "      <td>11155</td>\n",
              "      <td>11222</td>\n",
              "      <td>10687</td>\n",
              "      <td>10687</td>\n",
              "      <td>79080</td>\n",
              "      <td>-0.030306</td>\n",
              "    </tr>\n",
              "  </tbody>\n",
              "</table>\n",
              "</div>\n",
              "      <button class=\"colab-df-convert\" onclick=\"convertToInteractive('df-5cebcda5-2154-4a8c-a363-6e03381c4776')\"\n",
              "              title=\"Convert this dataframe to an interactive table.\"\n",
              "              style=\"display:none;\">\n",
              "        \n",
              "  <svg xmlns=\"http://www.w3.org/2000/svg\" height=\"24px\"viewBox=\"0 0 24 24\"\n",
              "       width=\"24px\">\n",
              "    <path d=\"M0 0h24v24H0V0z\" fill=\"none\"/>\n",
              "    <path d=\"M18.56 5.44l.94 2.06.94-2.06 2.06-.94-2.06-.94-.94-2.06-.94 2.06-2.06.94zm-11 1L8.5 8.5l.94-2.06 2.06-.94-2.06-.94L8.5 2.5l-.94 2.06-2.06.94zm10 10l.94 2.06.94-2.06 2.06-.94-2.06-.94-.94-2.06-.94 2.06-2.06.94z\"/><path d=\"M17.41 7.96l-1.37-1.37c-.4-.4-.92-.59-1.43-.59-.52 0-1.04.2-1.43.59L10.3 9.45l-7.72 7.72c-.78.78-.78 2.05 0 2.83L4 21.41c.39.39.9.59 1.41.59.51 0 1.02-.2 1.41-.59l7.78-7.78 2.81-2.81c.8-.78.8-2.07 0-2.86zM5.41 20L4 18.59l7.72-7.72 1.47 1.35L5.41 20z\"/>\n",
              "  </svg>\n",
              "      </button>\n",
              "      \n",
              "  <style>\n",
              "    .colab-df-container {\n",
              "      display:flex;\n",
              "      flex-wrap:wrap;\n",
              "      gap: 12px;\n",
              "    }\n",
              "\n",
              "    .colab-df-convert {\n",
              "      background-color: #E8F0FE;\n",
              "      border: none;\n",
              "      border-radius: 50%;\n",
              "      cursor: pointer;\n",
              "      display: none;\n",
              "      fill: #1967D2;\n",
              "      height: 32px;\n",
              "      padding: 0 0 0 0;\n",
              "      width: 32px;\n",
              "    }\n",
              "\n",
              "    .colab-df-convert:hover {\n",
              "      background-color: #E2EBFA;\n",
              "      box-shadow: 0px 1px 2px rgba(60, 64, 67, 0.3), 0px 1px 3px 1px rgba(60, 64, 67, 0.15);\n",
              "      fill: #174EA6;\n",
              "    }\n",
              "\n",
              "    [theme=dark] .colab-df-convert {\n",
              "      background-color: #3B4455;\n",
              "      fill: #D2E3FC;\n",
              "    }\n",
              "\n",
              "    [theme=dark] .colab-df-convert:hover {\n",
              "      background-color: #434B5C;\n",
              "      box-shadow: 0px 1px 3px 1px rgba(0, 0, 0, 0.15);\n",
              "      filter: drop-shadow(0px 1px 2px rgba(0, 0, 0, 0.3));\n",
              "      fill: #FFFFFF;\n",
              "    }\n",
              "  </style>\n",
              "\n",
              "      <script>\n",
              "        const buttonEl =\n",
              "          document.querySelector('#df-5cebcda5-2154-4a8c-a363-6e03381c4776 button.colab-df-convert');\n",
              "        buttonEl.style.display =\n",
              "          google.colab.kernel.accessAllowed ? 'block' : 'none';\n",
              "\n",
              "        async function convertToInteractive(key) {\n",
              "          const element = document.querySelector('#df-5cebcda5-2154-4a8c-a363-6e03381c4776');\n",
              "          const dataTable =\n",
              "            await google.colab.kernel.invokeFunction('convertToInteractive',\n",
              "                                                     [key], {});\n",
              "          if (!dataTable) return;\n",
              "\n",
              "          const docLinkHtml = 'Like what you see? Visit the ' +\n",
              "            '<a target=\"_blank\" href=https://colab.research.google.com/notebooks/data_table.ipynb>data table notebook</a>'\n",
              "            + ' to learn more about interactive tables.';\n",
              "          element.innerHTML = '';\n",
              "          dataTable['output_type'] = 'display_data';\n",
              "          await google.colab.output.renderOutput(dataTable, element);\n",
              "          const docLink = document.createElement('div');\n",
              "          docLink.innerHTML = docLinkHtml;\n",
              "          element.appendChild(docLink);\n",
              "        }\n",
              "      </script>\n",
              "    </div>\n",
              "  </div>\n",
              "  "
            ]
          },
          "metadata": {},
          "execution_count": 10
        }
      ]
    },
    {
      "cell_type": "code",
      "source": [
        "stock.tail()"
      ],
      "metadata": {
        "colab": {
          "base_uri": "https://localhost:8080/",
          "height": 238
        },
        "id": "t9kYG3eA_aCH",
        "outputId": "c3f24636-20fc-4518-f07f-fd931e4cd7c7"
      },
      "execution_count": 11,
      "outputs": [
        {
          "output_type": "execute_result",
          "data": {
            "text/plain": [
              "              Open    High     Low   Close   Volume    Change\n",
              "Date                                                         \n",
              "2022-07-05  180000  181000  173500  177500  1097504 -0.002809\n",
              "2022-07-06  176000  177000  172000  172500   924184 -0.028169\n",
              "2022-07-07  175000  177000  172500  175000   536363  0.014493\n",
              "2022-07-08  177500  180500  177000  178000   824702  0.017143\n",
              "2022-07-11  180000  182000  179000  180000   455772  0.011236"
            ],
            "text/html": [
              "\n",
              "  <div id=\"df-9dd1f0ca-d845-4d80-ac49-db5b660b9995\">\n",
              "    <div class=\"colab-df-container\">\n",
              "      <div>\n",
              "<style scoped>\n",
              "    .dataframe tbody tr th:only-of-type {\n",
              "        vertical-align: middle;\n",
              "    }\n",
              "\n",
              "    .dataframe tbody tr th {\n",
              "        vertical-align: top;\n",
              "    }\n",
              "\n",
              "    .dataframe thead th {\n",
              "        text-align: right;\n",
              "    }\n",
              "</style>\n",
              "<table border=\"1\" class=\"dataframe\">\n",
              "  <thead>\n",
              "    <tr style=\"text-align: right;\">\n",
              "      <th></th>\n",
              "      <th>Open</th>\n",
              "      <th>High</th>\n",
              "      <th>Low</th>\n",
              "      <th>Close</th>\n",
              "      <th>Volume</th>\n",
              "      <th>Change</th>\n",
              "    </tr>\n",
              "    <tr>\n",
              "      <th>Date</th>\n",
              "      <th></th>\n",
              "      <th></th>\n",
              "      <th></th>\n",
              "      <th></th>\n",
              "      <th></th>\n",
              "      <th></th>\n",
              "    </tr>\n",
              "  </thead>\n",
              "  <tbody>\n",
              "    <tr>\n",
              "      <th>2022-07-05</th>\n",
              "      <td>180000</td>\n",
              "      <td>181000</td>\n",
              "      <td>173500</td>\n",
              "      <td>177500</td>\n",
              "      <td>1097504</td>\n",
              "      <td>-0.002809</td>\n",
              "    </tr>\n",
              "    <tr>\n",
              "      <th>2022-07-06</th>\n",
              "      <td>176000</td>\n",
              "      <td>177000</td>\n",
              "      <td>172000</td>\n",
              "      <td>172500</td>\n",
              "      <td>924184</td>\n",
              "      <td>-0.028169</td>\n",
              "    </tr>\n",
              "    <tr>\n",
              "      <th>2022-07-07</th>\n",
              "      <td>175000</td>\n",
              "      <td>177000</td>\n",
              "      <td>172500</td>\n",
              "      <td>175000</td>\n",
              "      <td>536363</td>\n",
              "      <td>0.014493</td>\n",
              "    </tr>\n",
              "    <tr>\n",
              "      <th>2022-07-08</th>\n",
              "      <td>177500</td>\n",
              "      <td>180500</td>\n",
              "      <td>177000</td>\n",
              "      <td>178000</td>\n",
              "      <td>824702</td>\n",
              "      <td>0.017143</td>\n",
              "    </tr>\n",
              "    <tr>\n",
              "      <th>2022-07-11</th>\n",
              "      <td>180000</td>\n",
              "      <td>182000</td>\n",
              "      <td>179000</td>\n",
              "      <td>180000</td>\n",
              "      <td>455772</td>\n",
              "      <td>0.011236</td>\n",
              "    </tr>\n",
              "  </tbody>\n",
              "</table>\n",
              "</div>\n",
              "      <button class=\"colab-df-convert\" onclick=\"convertToInteractive('df-9dd1f0ca-d845-4d80-ac49-db5b660b9995')\"\n",
              "              title=\"Convert this dataframe to an interactive table.\"\n",
              "              style=\"display:none;\">\n",
              "        \n",
              "  <svg xmlns=\"http://www.w3.org/2000/svg\" height=\"24px\"viewBox=\"0 0 24 24\"\n",
              "       width=\"24px\">\n",
              "    <path d=\"M0 0h24v24H0V0z\" fill=\"none\"/>\n",
              "    <path d=\"M18.56 5.44l.94 2.06.94-2.06 2.06-.94-2.06-.94-.94-2.06-.94 2.06-2.06.94zm-11 1L8.5 8.5l.94-2.06 2.06-.94-2.06-.94L8.5 2.5l-.94 2.06-2.06.94zm10 10l.94 2.06.94-2.06 2.06-.94-2.06-.94-.94-2.06-.94 2.06-2.06.94z\"/><path d=\"M17.41 7.96l-1.37-1.37c-.4-.4-.92-.59-1.43-.59-.52 0-1.04.2-1.43.59L10.3 9.45l-7.72 7.72c-.78.78-.78 2.05 0 2.83L4 21.41c.39.39.9.59 1.41.59.51 0 1.02-.2 1.41-.59l7.78-7.78 2.81-2.81c.8-.78.8-2.07 0-2.86zM5.41 20L4 18.59l7.72-7.72 1.47 1.35L5.41 20z\"/>\n",
              "  </svg>\n",
              "      </button>\n",
              "      \n",
              "  <style>\n",
              "    .colab-df-container {\n",
              "      display:flex;\n",
              "      flex-wrap:wrap;\n",
              "      gap: 12px;\n",
              "    }\n",
              "\n",
              "    .colab-df-convert {\n",
              "      background-color: #E8F0FE;\n",
              "      border: none;\n",
              "      border-radius: 50%;\n",
              "      cursor: pointer;\n",
              "      display: none;\n",
              "      fill: #1967D2;\n",
              "      height: 32px;\n",
              "      padding: 0 0 0 0;\n",
              "      width: 32px;\n",
              "    }\n",
              "\n",
              "    .colab-df-convert:hover {\n",
              "      background-color: #E2EBFA;\n",
              "      box-shadow: 0px 1px 2px rgba(60, 64, 67, 0.3), 0px 1px 3px 1px rgba(60, 64, 67, 0.15);\n",
              "      fill: #174EA6;\n",
              "    }\n",
              "\n",
              "    [theme=dark] .colab-df-convert {\n",
              "      background-color: #3B4455;\n",
              "      fill: #D2E3FC;\n",
              "    }\n",
              "\n",
              "    [theme=dark] .colab-df-convert:hover {\n",
              "      background-color: #434B5C;\n",
              "      box-shadow: 0px 1px 3px 1px rgba(0, 0, 0, 0.15);\n",
              "      filter: drop-shadow(0px 1px 2px rgba(0, 0, 0, 0.3));\n",
              "      fill: #FFFFFF;\n",
              "    }\n",
              "  </style>\n",
              "\n",
              "      <script>\n",
              "        const buttonEl =\n",
              "          document.querySelector('#df-9dd1f0ca-d845-4d80-ac49-db5b660b9995 button.colab-df-convert');\n",
              "        buttonEl.style.display =\n",
              "          google.colab.kernel.accessAllowed ? 'block' : 'none';\n",
              "\n",
              "        async function convertToInteractive(key) {\n",
              "          const element = document.querySelector('#df-9dd1f0ca-d845-4d80-ac49-db5b660b9995');\n",
              "          const dataTable =\n",
              "            await google.colab.kernel.invokeFunction('convertToInteractive',\n",
              "                                                     [key], {});\n",
              "          if (!dataTable) return;\n",
              "\n",
              "          const docLinkHtml = 'Like what you see? Visit the ' +\n",
              "            '<a target=\"_blank\" href=https://colab.research.google.com/notebooks/data_table.ipynb>data table notebook</a>'\n",
              "            + ' to learn more about interactive tables.';\n",
              "          element.innerHTML = '';\n",
              "          dataTable['output_type'] = 'display_data';\n",
              "          await google.colab.output.renderOutput(dataTable, element);\n",
              "          const docLink = document.createElement('div');\n",
              "          docLink.innerHTML = docLinkHtml;\n",
              "          element.appendChild(docLink);\n",
              "        }\n",
              "      </script>\n",
              "    </div>\n",
              "  </div>\n",
              "  "
            ]
          },
          "metadata": {},
          "execution_count": 11
        }
      ]
    },
    {
      "cell_type": "code",
      "source": [
        "stock.index"
      ],
      "metadata": {
        "colab": {
          "base_uri": "https://localhost:8080/"
        },
        "id": "NQSd5Je8_cYE",
        "outputId": "d2232907-2a4a-4a73-adfb-717919f64628"
      },
      "execution_count": 12,
      "outputs": [
        {
          "output_type": "execute_result",
          "data": {
            "text/plain": [
              "DatetimeIndex(['1998-05-07', '1998-05-08', '1998-05-09', '1998-05-11',\n",
              "               '1998-05-12', '1998-05-13', '1998-05-14', '1998-05-15',\n",
              "               '1998-05-16', '1998-05-18',\n",
              "               ...\n",
              "               '2022-06-28', '2022-06-29', '2022-06-30', '2022-07-01',\n",
              "               '2022-07-04', '2022-07-05', '2022-07-06', '2022-07-07',\n",
              "               '2022-07-08', '2022-07-11'],\n",
              "              dtype='datetime64[ns]', name='Date', length=6000, freq=None)"
            ]
          },
          "metadata": {},
          "execution_count": 12
        }
      ]
    },
    {
      "cell_type": "code",
      "source": [
        "stock['Year'] = stock.index.year\n",
        "stock['Month'] = stock.index.month\n",
        "stock['Day'] = stock.index.day"
      ],
      "metadata": {
        "id": "3-JDXmz8_tbM"
      },
      "execution_count": 13,
      "outputs": []
    },
    {
      "cell_type": "code",
      "source": [
        "stock.head()"
      ],
      "metadata": {
        "colab": {
          "base_uri": "https://localhost:8080/",
          "height": 238
        },
        "id": "o6_1LrSd_xu-",
        "outputId": "74fe0b33-b198-42d7-affa-1e956fd87221"
      },
      "execution_count": 14,
      "outputs": [
        {
          "output_type": "execute_result",
          "data": {
            "text/plain": [
              "             Open   High    Low  Close  Volume    Change  Year  Month  Day\n",
              "Date                                                                      \n",
              "1998-05-07  11823  11823  11088  11355   60020       NaN  1998      5    7\n",
              "1998-05-08  11222  11355  11088  11088   57320 -0.023514  1998      5    8\n",
              "1998-05-09  11222  11522  11222  11355   29180  0.024080  1998      5    9\n",
              "1998-05-11  11355  11355  11021  11021   34650 -0.029414  1998      5   11\n",
              "1998-05-12  11155  11222  10687  10687   79080 -0.030306  1998      5   12"
            ],
            "text/html": [
              "\n",
              "  <div id=\"df-2ad76bb5-df21-4d08-b006-5834a77829c7\">\n",
              "    <div class=\"colab-df-container\">\n",
              "      <div>\n",
              "<style scoped>\n",
              "    .dataframe tbody tr th:only-of-type {\n",
              "        vertical-align: middle;\n",
              "    }\n",
              "\n",
              "    .dataframe tbody tr th {\n",
              "        vertical-align: top;\n",
              "    }\n",
              "\n",
              "    .dataframe thead th {\n",
              "        text-align: right;\n",
              "    }\n",
              "</style>\n",
              "<table border=\"1\" class=\"dataframe\">\n",
              "  <thead>\n",
              "    <tr style=\"text-align: right;\">\n",
              "      <th></th>\n",
              "      <th>Open</th>\n",
              "      <th>High</th>\n",
              "      <th>Low</th>\n",
              "      <th>Close</th>\n",
              "      <th>Volume</th>\n",
              "      <th>Change</th>\n",
              "      <th>Year</th>\n",
              "      <th>Month</th>\n",
              "      <th>Day</th>\n",
              "    </tr>\n",
              "    <tr>\n",
              "      <th>Date</th>\n",
              "      <th></th>\n",
              "      <th></th>\n",
              "      <th></th>\n",
              "      <th></th>\n",
              "      <th></th>\n",
              "      <th></th>\n",
              "      <th></th>\n",
              "      <th></th>\n",
              "      <th></th>\n",
              "    </tr>\n",
              "  </thead>\n",
              "  <tbody>\n",
              "    <tr>\n",
              "      <th>1998-05-07</th>\n",
              "      <td>11823</td>\n",
              "      <td>11823</td>\n",
              "      <td>11088</td>\n",
              "      <td>11355</td>\n",
              "      <td>60020</td>\n",
              "      <td>NaN</td>\n",
              "      <td>1998</td>\n",
              "      <td>5</td>\n",
              "      <td>7</td>\n",
              "    </tr>\n",
              "    <tr>\n",
              "      <th>1998-05-08</th>\n",
              "      <td>11222</td>\n",
              "      <td>11355</td>\n",
              "      <td>11088</td>\n",
              "      <td>11088</td>\n",
              "      <td>57320</td>\n",
              "      <td>-0.023514</td>\n",
              "      <td>1998</td>\n",
              "      <td>5</td>\n",
              "      <td>8</td>\n",
              "    </tr>\n",
              "    <tr>\n",
              "      <th>1998-05-09</th>\n",
              "      <td>11222</td>\n",
              "      <td>11522</td>\n",
              "      <td>11222</td>\n",
              "      <td>11355</td>\n",
              "      <td>29180</td>\n",
              "      <td>0.024080</td>\n",
              "      <td>1998</td>\n",
              "      <td>5</td>\n",
              "      <td>9</td>\n",
              "    </tr>\n",
              "    <tr>\n",
              "      <th>1998-05-11</th>\n",
              "      <td>11355</td>\n",
              "      <td>11355</td>\n",
              "      <td>11021</td>\n",
              "      <td>11021</td>\n",
              "      <td>34650</td>\n",
              "      <td>-0.029414</td>\n",
              "      <td>1998</td>\n",
              "      <td>5</td>\n",
              "      <td>11</td>\n",
              "    </tr>\n",
              "    <tr>\n",
              "      <th>1998-05-12</th>\n",
              "      <td>11155</td>\n",
              "      <td>11222</td>\n",
              "      <td>10687</td>\n",
              "      <td>10687</td>\n",
              "      <td>79080</td>\n",
              "      <td>-0.030306</td>\n",
              "      <td>1998</td>\n",
              "      <td>5</td>\n",
              "      <td>12</td>\n",
              "    </tr>\n",
              "  </tbody>\n",
              "</table>\n",
              "</div>\n",
              "      <button class=\"colab-df-convert\" onclick=\"convertToInteractive('df-2ad76bb5-df21-4d08-b006-5834a77829c7')\"\n",
              "              title=\"Convert this dataframe to an interactive table.\"\n",
              "              style=\"display:none;\">\n",
              "        \n",
              "  <svg xmlns=\"http://www.w3.org/2000/svg\" height=\"24px\"viewBox=\"0 0 24 24\"\n",
              "       width=\"24px\">\n",
              "    <path d=\"M0 0h24v24H0V0z\" fill=\"none\"/>\n",
              "    <path d=\"M18.56 5.44l.94 2.06.94-2.06 2.06-.94-2.06-.94-.94-2.06-.94 2.06-2.06.94zm-11 1L8.5 8.5l.94-2.06 2.06-.94-2.06-.94L8.5 2.5l-.94 2.06-2.06.94zm10 10l.94 2.06.94-2.06 2.06-.94-2.06-.94-.94-2.06-.94 2.06-2.06.94z\"/><path d=\"M17.41 7.96l-1.37-1.37c-.4-.4-.92-.59-1.43-.59-.52 0-1.04.2-1.43.59L10.3 9.45l-7.72 7.72c-.78.78-.78 2.05 0 2.83L4 21.41c.39.39.9.59 1.41.59.51 0 1.02-.2 1.41-.59l7.78-7.78 2.81-2.81c.8-.78.8-2.07 0-2.86zM5.41 20L4 18.59l7.72-7.72 1.47 1.35L5.41 20z\"/>\n",
              "  </svg>\n",
              "      </button>\n",
              "      \n",
              "  <style>\n",
              "    .colab-df-container {\n",
              "      display:flex;\n",
              "      flex-wrap:wrap;\n",
              "      gap: 12px;\n",
              "    }\n",
              "\n",
              "    .colab-df-convert {\n",
              "      background-color: #E8F0FE;\n",
              "      border: none;\n",
              "      border-radius: 50%;\n",
              "      cursor: pointer;\n",
              "      display: none;\n",
              "      fill: #1967D2;\n",
              "      height: 32px;\n",
              "      padding: 0 0 0 0;\n",
              "      width: 32px;\n",
              "    }\n",
              "\n",
              "    .colab-df-convert:hover {\n",
              "      background-color: #E2EBFA;\n",
              "      box-shadow: 0px 1px 2px rgba(60, 64, 67, 0.3), 0px 1px 3px 1px rgba(60, 64, 67, 0.15);\n",
              "      fill: #174EA6;\n",
              "    }\n",
              "\n",
              "    [theme=dark] .colab-df-convert {\n",
              "      background-color: #3B4455;\n",
              "      fill: #D2E3FC;\n",
              "    }\n",
              "\n",
              "    [theme=dark] .colab-df-convert:hover {\n",
              "      background-color: #434B5C;\n",
              "      box-shadow: 0px 1px 3px 1px rgba(0, 0, 0, 0.15);\n",
              "      filter: drop-shadow(0px 1px 2px rgba(0, 0, 0, 0.3));\n",
              "      fill: #FFFFFF;\n",
              "    }\n",
              "  </style>\n",
              "\n",
              "      <script>\n",
              "        const buttonEl =\n",
              "          document.querySelector('#df-2ad76bb5-df21-4d08-b006-5834a77829c7 button.colab-df-convert');\n",
              "        buttonEl.style.display =\n",
              "          google.colab.kernel.accessAllowed ? 'block' : 'none';\n",
              "\n",
              "        async function convertToInteractive(key) {\n",
              "          const element = document.querySelector('#df-2ad76bb5-df21-4d08-b006-5834a77829c7');\n",
              "          const dataTable =\n",
              "            await google.colab.kernel.invokeFunction('convertToInteractive',\n",
              "                                                     [key], {});\n",
              "          if (!dataTable) return;\n",
              "\n",
              "          const docLinkHtml = 'Like what you see? Visit the ' +\n",
              "            '<a target=\"_blank\" href=https://colab.research.google.com/notebooks/data_table.ipynb>data table notebook</a>'\n",
              "            + ' to learn more about interactive tables.';\n",
              "          element.innerHTML = '';\n",
              "          dataTable['output_type'] = 'display_data';\n",
              "          await google.colab.output.renderOutput(dataTable, element);\n",
              "          const docLink = document.createElement('div');\n",
              "          docLink.innerHTML = docLinkHtml;\n",
              "          element.appendChild(docLink);\n",
              "        }\n",
              "      </script>\n",
              "    </div>\n",
              "  </div>\n",
              "  "
            ]
          },
          "metadata": {},
          "execution_count": 14
        }
      ]
    },
    {
      "cell_type": "code",
      "source": [
        "plt.figure(figsize=(16, 9))\n",
        "sns.lineplot(y=stock['Close'], x=stock.index)\n",
        "plt.xlabel('time')\n",
        "plt.ylabel('price')"
      ],
      "metadata": {
        "colab": {
          "base_uri": "https://localhost:8080/",
          "height": 568
        },
        "id": "DjoPuKs7_69K",
        "outputId": "49c51cbc-4516-440f-80fe-ba79f62b7ba5"
      },
      "execution_count": 15,
      "outputs": [
        {
          "output_type": "execute_result",
          "data": {
            "text/plain": [
              "Text(0, 0.5, 'price')"
            ]
          },
          "metadata": {},
          "execution_count": 15
        },
        {
          "output_type": "stream",
          "name": "stderr",
          "text": [
            "findfont: Font family ['NanumGothic'] not found. Falling back to DejaVu Sans.\n"
          ]
        },
        {
          "output_type": "display_data",
          "data": {
            "text/plain": [
              "<Figure size 1152x648 with 1 Axes>"
            ],
            "image/png": "[encoded data removed]"
          },
          "metadata": {
            "needs_background": "light"
          }
        }
      ]
    },
    {
      "cell_type": "code",
      "source": [
        "time_steps = [['1990','2000'],\n",
        "              ['2000','2010'],\n",
        "              ['2010','2015'],\n",
        "              ['2015','2020']]\n",
        "\n",
        "fig, axes = plt.subplots(2, 2)\n",
        "fig.set_size_inches(16, 9)\n",
        "for i in range(4):\n",
        "    ax = axes[i//2, i%2]\n",
        "    df = stock.loc[(stock.index > time_steps[i][0]) & (stock.index < time_steps[i][1])]\n",
        "    sns.lineplot(y=df['Close'], x=df.index, ax=ax)\n",
        "    ax.set_title(f'{time_steps[i][0]}~{time_steps[i][1]}')\n",
        "    ax.set_xlabel('time')\n",
        "    ax.set_ylabel('price')\n",
        "plt.tight_layout()\n",
        "plt.show()"
      ],
      "metadata": {
        "colab": {
          "base_uri": "https://localhost:8080/",
          "height": 657
        },
        "id": "KvBqjS78AERI",
        "outputId": "4d805f60-4896-4e57-a5c0-5665458f9e06"
      },
      "execution_count": 17,
      "outputs": [
        {
          "output_type": "display_data",
          "data": {
            "text/plain": [
              "<Figure size 1152x648 with 4 Axes>"
            ],
            "image/png": "[encoded data removed]"
          },
          "metadata": {
            "needs_background": "light"
          }
        }
      ]
    },
    {
      "cell_type": "code",
      "source": [
        "from sklearn.preprocessing import MinMaxScaler\n",
        "\n",
        "scaler = MinMaxScaler()\n",
        "\n",
        "scale_cols = ['Open', 'High', 'Low', 'Close', 'Volume']\n",
        "\n",
        "scaled = scaler.fit_transform(stock[scale_cols])\n",
        "scaled"
      ],
      "metadata": {
        "colab": {
          "base_uri": "https://localhost:8080/"
        },
        "id": "4BLhjSW2Anht",
        "outputId": "df5ccdd1-6676-4a72-992f-7a88cf515b15"
      },
      "execution_count": 18,
      "outputs": [
        {
          "output_type": "execute_result",
          "data": {
            "text/plain": [
              "array([[0.01403752, 0.0130149 , 0.01226761, 0.01277676, 0.00208125],\n",
              "       [0.01175119, 0.01134842, 0.01226761, 0.0117517 , 0.0019804 ],\n",
              "       [0.01175119, 0.01194308, 0.01278683, 0.01277676, 0.00092932],\n",
              "       ...,\n",
              "       [0.6347963 , 0.60118505, 0.63770643, 0.64103765, 0.01987358],\n",
              "       [0.64430682, 0.61364802, 0.65514302, 0.65255516, 0.0306436 ],\n",
              "       [0.65381733, 0.61898929, 0.66289261, 0.6602335 , 0.01686335]])"
            ]
          },
          "metadata": {},
          "execution_count": 18
        }
      ]
    },
    {
      "cell_type": "code",
      "source": [
        "df = pd.DataFrame(scaled, columns=scale_cols)\n",
        "df.info()"
      ],
      "metadata": {
        "colab": {
          "base_uri": "https://localhost:8080/"
        },
        "id": "xE10DuwTArq7",
        "outputId": "2b49823d-3643-425d-82de-c89f21a49f73"
      },
      "execution_count": 19,
      "outputs": [
        {
          "output_type": "stream",
          "name": "stdout",
          "text": [
            "<class 'pandas.core.frame.DataFrame'>\n",
            "RangeIndex: 6000 entries, 0 to 5999\n",
            "Data columns (total 5 columns):\n",
            " #   Column  Non-Null Count  Dtype  \n",
            "---  ------  --------------  -----  \n",
            " 0   Open    6000 non-null   float64\n",
            " 1   High    6000 non-null   float64\n",
            " 2   Low     6000 non-null   float64\n",
            " 3   Close   6000 non-null   float64\n",
            " 4   Volume  6000 non-null   float64\n",
            "dtypes: float64(5)\n",
            "memory usage: 234.5 KB\n"
          ]
        }
      ]
    },
    {
      "cell_type": "code",
      "source": [
        "from sklearn.model_selection import train_test_split"
      ],
      "metadata": {
        "id": "wcUsOwUxAvrF"
      },
      "execution_count": 20,
      "outputs": []
    },
    {
      "cell_type": "code",
      "source": [
        "x_train, x_test, y_train, y_test = train_test_split(df.drop('Close', 1), df['Close'], test_size=0.2, random_state=0, shuffle=False)"
      ],
      "metadata": {
        "id": "IqsZ91F6A0Fu"
      },
      "execution_count": 21,
      "outputs": []
    },
    {
      "cell_type": "code",
      "source": [
        "x_train.shape, y_train.shape"
      ],
      "metadata": {
        "colab": {
          "base_uri": "https://localhost:8080/"
        },
        "id": "pM-2ZW4qA1lv",
        "outputId": "fd22875c-02d4-4ce8-e9c6-570a8863e336"
      },
      "execution_count": 22,
      "outputs": [
        {
          "output_type": "execute_result",
          "data": {
            "text/plain": [
              "((4800, 4), (4800,))"
            ]
          },
          "metadata": {},
          "execution_count": 22
        }
      ]
    },
    {
      "cell_type": "code",
      "source": [
        "x_test.shape, y_test.shape"
      ],
      "metadata": {
        "colab": {
          "base_uri": "https://localhost:8080/"
        },
        "id": "A2UHVZTlA3FP",
        "outputId": "8f0beb71-2d0d-48b8-a013-a1ba30b704c1"
      },
      "execution_count": 23,
      "outputs": [
        {
          "output_type": "execute_result",
          "data": {
            "text/plain": [
              "((1200, 4), (1200,))"
            ]
          },
          "metadata": {},
          "execution_count": 23
        }
      ]
    },
    {
      "cell_type": "code",
      "source": [
        "x_train"
      ],
      "metadata": {
        "colab": {
          "base_uri": "https://localhost:8080/",
          "height": 424
        },
        "id": "MHgV8Y1eA3Hq",
        "outputId": "cd443160-3f6b-47e6-ab5d-45fc611124c2"
      },
      "execution_count": 24,
      "outputs": [
        {
          "output_type": "execute_result",
          "data": {
            "text/plain": [
              "          Open      High       Low    Volume\n",
              "0     0.014038  0.013015  0.012268  0.002081\n",
              "1     0.011751  0.011348  0.012268  0.001980\n",
              "2     0.011751  0.011943  0.012787  0.000929\n",
              "3     0.012257  0.011348  0.012008  0.001134\n",
              "4     0.011496  0.010875  0.010714  0.002793\n",
              "...        ...       ...       ...       ...\n",
              "4795  0.511160  0.490799  0.519525  0.011787\n",
              "4796  0.520670  0.490799  0.523400  0.015421\n",
              "4797  0.513062  0.485457  0.517588  0.009207\n",
              "4798  0.516866  0.489018  0.525337  0.009303\n",
              "4799  0.520670  0.499701  0.525337  0.015916\n",
              "\n",
              "[4800 rows x 4 columns]"
            ],
            "text/html": [
              "\n",
              "  <div id=\"df-deea9d80-2ac7-4abd-9957-27ae98658e1a\">\n",
              "    <div class=\"colab-df-container\">\n",
              "      <div>\n",
              "<style scoped>\n",
              "    .dataframe tbody tr th:only-of-type {\n",
              "        vertical-align: middle;\n",
              "    }\n",
              "\n",
              "    .dataframe tbody tr th {\n",
              "        vertical-align: top;\n",
              "    }\n",
              "\n",
              "    .dataframe thead th {\n",
              "        text-align: right;\n",
              "    }\n",
              "</style>\n",
              "<table border=\"1\" class=\"dataframe\">\n",
              "  <thead>\n",
              "    <tr style=\"text-align: right;\">\n",
              "      <th></th>\n",
              "      <th>Open</th>\n",
              "      <th>High</th>\n",
              "      <th>Low</th>\n",
              "      <th>Volume</th>\n",
              "    </tr>\n",
              "  </thead>\n",
              "  <tbody>\n",
              "    <tr>\n",
              "      <th>0</th>\n",
              "      <td>0.014038</td>\n",
              "      <td>0.013015</td>\n",
              "      <td>0.012268</td>\n",
              "      <td>0.002081</td>\n",
              "    </tr>\n",
              "    <tr>\n",
              "      <th>1</th>\n",
              "      <td>0.011751</td>\n",
              "      <td>0.011348</td>\n",
              "      <td>0.012268</td>\n",
              "      <td>0.001980</td>\n",
              "    </tr>\n",
              "    <tr>\n",
              "      <th>2</th>\n",
              "      <td>0.011751</td>\n",
              "      <td>0.011943</td>\n",
              "      <td>0.012787</td>\n",
              "      <td>0.000929</td>\n",
              "    </tr>\n",
              "    <tr>\n",
              "      <th>3</th>\n",
              "      <td>0.012257</td>\n",
              "      <td>0.011348</td>\n",
              "      <td>0.012008</td>\n",
              "      <td>0.001134</td>\n",
              "    </tr>\n",
              "    <tr>\n",
              "      <th>4</th>\n",
              "      <td>0.011496</td>\n",
              "      <td>0.010875</td>\n",
              "      <td>0.010714</td>\n",
              "      <td>0.002793</td>\n",
              "    </tr>\n",
              "    <tr>\n",
              "      <th>...</th>\n",
              "      <td>...</td>\n",
              "      <td>...</td>\n",
              "      <td>...</td>\n",
              "      <td>...</td>\n",
              "    </tr>\n",
              "    <tr>\n",
              "      <th>4795</th>\n",
              "      <td>0.511160</td>\n",
              "      <td>0.490799</td>\n",
              "      <td>0.519525</td>\n",
              "      <td>0.011787</td>\n",
              "    </tr>\n",
              "    <tr>\n",
              "      <th>4796</th>\n",
              "      <td>0.520670</td>\n",
              "      <td>0.490799</td>\n",
              "      <td>0.523400</td>\n",
              "      <td>0.015421</td>\n",
              "    </tr>\n",
              "    <tr>\n",
              "      <th>4797</th>\n",
              "      <td>0.513062</td>\n",
              "      <td>0.485457</td>\n",
              "      <td>0.517588</td>\n",
              "      <td>0.009207</td>\n",
              "    </tr>\n",
              "    <tr>\n",
              "      <th>4798</th>\n",
              "      <td>0.516866</td>\n",
              "      <td>0.489018</td>\n",
              "      <td>0.525337</td>\n",
              "      <td>0.009303</td>\n",
              "    </tr>\n",
              "    <tr>\n",
              "      <th>4799</th>\n",
              "      <td>0.520670</td>\n",
              "      <td>0.499701</td>\n",
              "      <td>0.525337</td>\n",
              "      <td>0.015916</td>\n",
              "    </tr>\n",
              "  </tbody>\n",
              "</table>\n",
              "<p>4800 rows × 4 columns</p>\n",
              "</div>\n",
              "      <button class=\"colab-df-convert\" onclick=\"convertToInteractive('df-deea9d80-2ac7-4abd-9957-27ae98658e1a')\"\n",
              "              title=\"Convert this dataframe to an interactive table.\"\n",
              "              style=\"display:none;\">\n",
              "        \n",
              "  <svg xmlns=\"http://www.w3.org/2000/svg\" height=\"24px\"viewBox=\"0 0 24 24\"\n",
              "       width=\"24px\">\n",
              "    <path d=\"M0 0h24v24H0V0z\" fill=\"none\"/>\n",
              "    <path d=\"M18.56 5.44l.94 2.06.94-2.06 2.06-.94-2.06-.94-.94-2.06-.94 2.06-2.06.94zm-11 1L8.5 8.5l.94-2.06 2.06-.94-2.06-.94L8.5 2.5l-.94 2.06-2.06.94zm10 10l.94 2.06.94-2.06 2.06-.94-2.06-.94-.94-2.06-.94 2.06-2.06.94z\"/><path d=\"M17.41 7.96l-1.37-1.37c-.4-.4-.92-.59-1.43-.59-.52 0-1.04.2-1.43.59L10.3 9.45l-7.72 7.72c-.78.78-.78 2.05 0 2.83L4 21.41c.39.39.9.59 1.41.59.51 0 1.02-.2 1.41-.59l7.78-7.78 2.81-2.81c.8-.78.8-2.07 0-2.86zM5.41 20L4 18.59l7.72-7.72 1.47 1.35L5.41 20z\"/>\n",
              "  </svg>\n",
              "      </button>\n",
              "      \n",
              "  <style>\n",
              "    .colab-df-container {\n",
              "      display:flex;\n",
              "      flex-wrap:wrap;\n",
              "      gap: 12px;\n",
              "    }\n",
              "\n",
              "    .colab-df-convert {\n",
              "      background-color: #E8F0FE;\n",
              "      border: none;\n",
              "      border-radius: 50%;\n",
              "      cursor: pointer;\n",
              "      display: none;\n",
              "      fill: #1967D2;\n",
              "      height: 32px;\n",
              "      padding: 0 0 0 0;\n",
              "      width: 32px;\n",
              "    }\n",
              "\n",
              "    .colab-df-convert:hover {\n",
              "      background-color: #E2EBFA;\n",
              "      box-shadow: 0px 1px 2px rgba(60, 64, 67, 0.3), 0px 1px 3px 1px rgba(60, 64, 67, 0.15);\n",
              "      fill: #174EA6;\n",
              "    }\n",
              "\n",
              "    [theme=dark] .colab-df-convert {\n",
              "      background-color: #3B4455;\n",
              "      fill: #D2E3FC;\n",
              "    }\n",
              "\n",
              "    [theme=dark] .colab-df-convert:hover {\n",
              "      background-color: #434B5C;\n",
              "      box-shadow: 0px 1px 3px 1px rgba(0, 0, 0, 0.15);\n",
              "      filter: drop-shadow(0px 1px 2px rgba(0, 0, 0, 0.3));\n",
              "      fill: #FFFFFF;\n",
              "    }\n",
              "  </style>\n",
              "\n",
              "      <script>\n",
              "        const buttonEl =\n",
              "          document.querySelector('#df-deea9d80-2ac7-4abd-9957-27ae98658e1a button.colab-df-convert');\n",
              "        buttonEl.style.display =\n",
              "          google.colab.kernel.accessAllowed ? 'block' : 'none';\n",
              "\n",
              "        async function convertToInteractive(key) {\n",
              "          const element = document.querySelector('#df-deea9d80-2ac7-4abd-9957-27ae98658e1a');\n",
              "          const dataTable =\n",
              "            await google.colab.kernel.invokeFunction('convertToInteractive',\n",
              "                                                     [key], {});\n",
              "          if (!dataTable) return;\n",
              "\n",
              "          const docLinkHtml = 'Like what you see? Visit the ' +\n",
              "            '<a target=\"_blank\" href=https://colab.research.google.com/notebooks/data_table.ipynb>data table notebook</a>'\n",
              "            + ' to learn more about interactive tables.';\n",
              "          element.innerHTML = '';\n",
              "          dataTable['output_type'] = 'display_data';\n",
              "          await google.colab.output.renderOutput(dataTable, element);\n",
              "          const docLink = document.createElement('div');\n",
              "          docLink.innerHTML = docLinkHtml;\n",
              "          element.appendChild(docLink);\n",
              "        }\n",
              "      </script>\n",
              "    </div>\n",
              "  </div>\n",
              "  "
            ]
          },
          "metadata": {},
          "execution_count": 24
        }
      ]
    },
    {
      "cell_type": "code",
      "source": [
        "import tensorflow as tf"
      ],
      "metadata": {
        "id": "-1Z9CV6BA3LD"
      },
      "execution_count": 25,
      "outputs": []
    },
    {
      "cell_type": "code",
      "source": [
        "def windowed_dataset(series, window_size, batch_size, shuffle):\n",
        "    series = tf.expand_dims(series, axis=-1)\n",
        "    ds = tf.data.Dataset.from_tensor_slices(series)\n",
        "    ds = ds.window(window_size + 1, shift=1, drop_remainder=True)\n",
        "    ds = ds.flat_map(lambda w: w.batch(window_size + 1))\n",
        "    if shuffle:\n",
        "        ds = ds.shuffle(1000)\n",
        "    ds = ds.map(lambda w: (w[:-1], w[-1]))\n",
        "    return ds.batch(batch_size).prefetch(1)"
      ],
      "metadata": {
        "id": "ePHr_WAnA3NK"
      },
      "execution_count": 26,
      "outputs": []
    },
    {
      "cell_type": "code",
      "source": [
        "WINDOW_SIZE=20\n",
        "BATCH_SIZE=32"
      ],
      "metadata": {
        "id": "ds__PptpA3QP"
      },
      "execution_count": 27,
      "outputs": []
    },
    {
      "cell_type": "code",
      "source": [
        "train_data = windowed_dataset(y_train, WINDOW_SIZE, BATCH_SIZE, True)\n",
        "test_data = windowed_dataset(y_test, WINDOW_SIZE, BATCH_SIZE, False)"
      ],
      "metadata": {
        "id": "_DbLIC7KA3SR"
      },
      "execution_count": 28,
      "outputs": []
    },
    {
      "cell_type": "code",
      "source": [
        "for data in train_data.take(1):\n",
        "    print(f'데이터셋(X) 구성(batch_size, window_size, feature갯수): {data[0].shape}')\n",
        "    print(f'데이터셋(Y) 구성(batch_size, window_size, feature갯수): {data[1].shape}')"
      ],
      "metadata": {
        "colab": {
          "base_uri": "https://localhost:8080/"
        },
        "id": "YpCMPRSdA3VU",
        "outputId": "e247c2cd-23d8-4fbc-c6b0-63932715319a"
      },
      "execution_count": 29,
      "outputs": [
        {
          "output_type": "stream",
          "name": "stdout",
          "text": [
            "데이터셋(X) 구성(batch_size, window_size, feature갯수): (32, 20, 1)\n",
            "데이터셋(Y) 구성(batch_size, window_size, feature갯수): (32, 1)\n"
          ]
        }
      ]
    },
    {
      "cell_type": "code",
      "source": [
        "from tensorflow.keras.models import Sequential\n",
        "from tensorflow.keras.layers import Dense, LSTM, Conv1D, Lambda\n",
        "from tensorflow.keras.losses import Huber\n",
        "from tensorflow.keras.optimizers import Adam\n",
        "from tensorflow.keras.callbacks import EarlyStopping, ModelCheckpoint\n",
        "\n",
        "\n",
        "model = Sequential([\n",
        "    Conv1D(filters=32, kernel_size=5,\n",
        "           padding=\"causal\",\n",
        "           activation=\"relu\",\n",
        "           input_shape=[WINDOW_SIZE, 1]),\n",
        "    LSTM(16, activation='tanh'),\n",
        "    Dense(16, activation=\"relu\"),\n",
        "    Dense(1),\n",
        "])"
      ],
      "metadata": {
        "id": "db7HazhsA3br"
      },
      "execution_count": 30,
      "outputs": []
    },
    {
      "cell_type": "code",
      "source": [
        "loss = Huber()\n",
        "optimizer = Adam(0.0005)\n",
        "model.compile(loss=Huber(), optimizer=optimizer, metrics=['mse'])"
      ],
      "metadata": {
        "id": "65WTuaFcBH8Q"
      },
      "execution_count": 31,
      "outputs": []
    },
    {
      "cell_type": "code",
      "source": [
        "earlystopping = EarlyStopping(monitor='val_loss', patience=10)\n",
        "\n",
        "filename = os.path.join('tmp', 'ckeckpointer.ckpt')\n",
        "checkpoint = ModelCheckpoint(filename, \n",
        "                             save_weights_only=True, \n",
        "                             save_best_only=True, \n",
        "                             monitor='val_loss', \n",
        "                             verbose=1)"
      ],
      "metadata": {
        "id": "TXF-stl1BItQ"
      },
      "execution_count": 32,
      "outputs": []
    },
    {
      "cell_type": "code",
      "source": [
        "history = model.fit(train_data, \n",
        "                    validation_data=(test_data), \n",
        "                    epochs=50, \n",
        "                    callbacks=[checkpoint, earlystopping])"
      ],
      "metadata": {
        "colab": {
          "base_uri": "https://localhost:8080/"
        },
        "id": "lWgjlCoeBIvX",
        "outputId": "ab0fdb91-abdb-40f9-e393-d991fd8ff3a3"
      },
      "execution_count": 33,
      "outputs": [
        {
          "output_type": "stream",
          "name": "stdout",
          "text": [
            "Epoch 1/50\n",
            "    150/Unknown - 6s 23ms/step - loss: 2.8111e-04 - mse: 5.6222e-04\n",
            "Epoch 1: val_loss improved from inf to 0.00041, saving model to tmp/ckeckpointer.ckpt\n",
            "150/150 [==============================] - 10s 49ms/step - loss: 2.8111e-04 - mse: 5.6222e-04 - val_loss: 4.0706e-04 - val_mse: 8.1412e-04\n",
            "Epoch 2/50\n",
            "150/150 [==============================] - ETA: 0s - loss: 1.8325e-04 - mse: 3.6650e-04\n",
            "Epoch 2: val_loss improved from 0.00041 to 0.00034, saving model to tmp/ckeckpointer.ckpt\n",
            "150/150 [==============================] - 4s 28ms/step - loss: 1.8325e-04 - mse: 3.6650e-04 - val_loss: 3.3716e-04 - val_mse: 6.7433e-04\n",
            "Epoch 3/50\n",
            "150/150 [==============================] - ETA: 0s - loss: 1.7415e-04 - mse: 3.4831e-04\n",
            "Epoch 3: val_loss did not improve from 0.00034\n",
            "150/150 [==============================] - 5s 30ms/step - loss: 1.7415e-04 - mse: 3.4831e-04 - val_loss: 5.2154e-04 - val_mse: 0.0010\n",
            "Epoch 4/50\n",
            "147/150 [============================>.] - ETA: 0s - loss: 1.6599e-04 - mse: 3.3198e-04\n",
            "Epoch 4: val_loss improved from 0.00034 to 0.00029, saving model to tmp/ckeckpointer.ckpt\n",
            "150/150 [==============================] - 3s 18ms/step - loss: 1.6728e-04 - mse: 3.3456e-04 - val_loss: 2.8845e-04 - val_mse: 5.7690e-04\n",
            "Epoch 5/50\n",
            "149/150 [============================>.] - ETA: 0s - loss: 1.5419e-04 - mse: 3.0838e-04\n",
            "Epoch 5: val_loss did not improve from 0.00029\n",
            "150/150 [==============================] - 2s 15ms/step - loss: 1.5448e-04 - mse: 3.0897e-04 - val_loss: 3.0153e-04 - val_mse: 6.0306e-04\n",
            "Epoch 6/50\n",
            "148/150 [============================>.] - ETA: 0s - loss: 1.4645e-04 - mse: 2.9290e-04\n",
            "Epoch 6: val_loss improved from 0.00029 to 0.00026, saving model to tmp/ckeckpointer.ckpt\n",
            "150/150 [==============================] - 3s 17ms/step - loss: 1.4832e-04 - mse: 2.9664e-04 - val_loss: 2.6329e-04 - val_mse: 5.2658e-04\n",
            "Epoch 7/50\n",
            "146/150 [============================>.] - ETA: 0s - loss: 1.4510e-04 - mse: 2.9019e-04\n",
            "Epoch 7: val_loss improved from 0.00026 to 0.00023, saving model to tmp/ckeckpointer.ckpt\n",
            "150/150 [==============================] - 3s 16ms/step - loss: 1.4676e-04 - mse: 2.9352e-04 - val_loss: 2.3263e-04 - val_mse: 4.6525e-04\n",
            "Epoch 8/50\n",
            "146/150 [============================>.] - ETA: 0s - loss: 1.2575e-04 - mse: 2.5150e-04\n",
            "Epoch 8: val_loss did not improve from 0.00023\n",
            "150/150 [==============================] - 3s 17ms/step - loss: 1.2668e-04 - mse: 2.5336e-04 - val_loss: 2.6178e-04 - val_mse: 5.2357e-04\n",
            "Epoch 9/50\n",
            "148/150 [============================>.] - ETA: 0s - loss: 1.1855e-04 - mse: 2.3710e-04\n",
            "Epoch 9: val_loss improved from 0.00023 to 0.00021, saving model to tmp/ckeckpointer.ckpt\n",
            "150/150 [==============================] - 2s 16ms/step - loss: 1.1853e-04 - mse: 2.3706e-04 - val_loss: 2.0771e-04 - val_mse: 4.1542e-04\n",
            "Epoch 10/50\n",
            "148/150 [============================>.] - ETA: 0s - loss: 1.1541e-04 - mse: 2.3083e-04\n",
            "Epoch 10: val_loss improved from 0.00021 to 0.00019, saving model to tmp/ckeckpointer.ckpt\n",
            "150/150 [==============================] - 4s 23ms/step - loss: 1.1532e-04 - mse: 2.3064e-04 - val_loss: 1.9458e-04 - val_mse: 3.8916e-04\n",
            "Epoch 11/50\n",
            "149/150 [============================>.] - ETA: 0s - loss: 1.0202e-04 - mse: 2.0403e-04\n",
            "Epoch 11: val_loss did not improve from 0.00019\n",
            "150/150 [==============================] - 3s 17ms/step - loss: 1.0257e-04 - mse: 2.0513e-04 - val_loss: 1.9498e-04 - val_mse: 3.8995e-04\n",
            "Epoch 12/50\n",
            "150/150 [==============================] - ETA: 0s - loss: 1.0058e-04 - mse: 2.0115e-04\n",
            "Epoch 12: val_loss improved from 0.00019 to 0.00017, saving model to tmp/ckeckpointer.ckpt\n",
            "150/150 [==============================] - 4s 23ms/step - loss: 1.0058e-04 - mse: 2.0115e-04 - val_loss: 1.6863e-04 - val_mse: 3.3726e-04\n",
            "Epoch 13/50\n",
            "145/150 [============================>.] - ETA: 0s - loss: 9.9454e-05 - mse: 1.9891e-04\n",
            "Epoch 13: val_loss did not improve from 0.00017\n",
            "150/150 [==============================] - 3s 16ms/step - loss: 1.0118e-04 - mse: 2.0236e-04 - val_loss: 1.7659e-04 - val_mse: 3.5317e-04\n",
            "Epoch 14/50\n",
            "146/150 [============================>.] - ETA: 0s - loss: 9.2403e-05 - mse: 1.8481e-04\n",
            "Epoch 14: val_loss improved from 0.00017 to 0.00016, saving model to tmp/ckeckpointer.ckpt\n",
            "150/150 [==============================] - 3s 16ms/step - loss: 9.3065e-05 - mse: 1.8613e-04 - val_loss: 1.6355e-04 - val_mse: 3.2711e-04\n",
            "Epoch 15/50\n",
            "148/150 [============================>.] - ETA: 0s - loss: 8.9447e-05 - mse: 1.7889e-04\n",
            "Epoch 15: val_loss did not improve from 0.00016\n",
            "150/150 [==============================] - 3s 18ms/step - loss: 8.9973e-05 - mse: 1.7995e-04 - val_loss: 1.7844e-04 - val_mse: 3.5687e-04\n",
            "Epoch 16/50\n",
            "148/150 [============================>.] - ETA: 0s - loss: 9.9988e-05 - mse: 1.9998e-04\n",
            "Epoch 16: val_loss improved from 0.00016 to 0.00015, saving model to tmp/ckeckpointer.ckpt\n",
            "150/150 [==============================] - 3s 16ms/step - loss: 1.0083e-04 - mse: 2.0167e-04 - val_loss: 1.5184e-04 - val_mse: 3.0367e-04\n",
            "Epoch 17/50\n",
            "146/150 [============================>.] - ETA: 0s - loss: 1.0014e-04 - mse: 2.0028e-04\n",
            "Epoch 17: val_loss did not improve from 0.00015\n",
            "150/150 [==============================] - 3s 18ms/step - loss: 1.0078e-04 - mse: 2.0155e-04 - val_loss: 1.5383e-04 - val_mse: 3.0766e-04\n",
            "Epoch 18/50\n",
            "150/150 [==============================] - ETA: 0s - loss: 8.8149e-05 - mse: 1.7630e-04\n",
            "Epoch 18: val_loss did not improve from 0.00015\n",
            "150/150 [==============================] - 3s 17ms/step - loss: 8.8149e-05 - mse: 1.7630e-04 - val_loss: 1.7062e-04 - val_mse: 3.4124e-04\n",
            "Epoch 19/50\n",
            "149/150 [============================>.] - ETA: 0s - loss: 9.0469e-05 - mse: 1.8094e-04\n",
            "Epoch 19: val_loss did not improve from 0.00015\n",
            "150/150 [==============================] - 3s 17ms/step - loss: 9.0388e-05 - mse: 1.8078e-04 - val_loss: 2.3175e-04 - val_mse: 4.6349e-04\n",
            "Epoch 20/50\n",
            "149/150 [============================>.] - ETA: 0s - loss: 8.4399e-05 - mse: 1.6880e-04\n",
            "Epoch 20: val_loss improved from 0.00015 to 0.00014, saving model to tmp/ckeckpointer.ckpt\n",
            "150/150 [==============================] - 2s 15ms/step - loss: 8.4313e-05 - mse: 1.6863e-04 - val_loss: 1.3823e-04 - val_mse: 2.7646e-04\n",
            "Epoch 21/50\n",
            "149/150 [============================>.] - ETA: 0s - loss: 8.9355e-05 - mse: 1.7871e-04\n",
            "Epoch 21: val_loss did not improve from 0.00014\n",
            "150/150 [==============================] - 2s 15ms/step - loss: 8.9343e-05 - mse: 1.7869e-04 - val_loss: 1.3981e-04 - val_mse: 2.7962e-04\n",
            "Epoch 22/50\n",
            "146/150 [============================>.] - ETA: 0s - loss: 7.9148e-05 - mse: 1.5830e-04\n",
            "Epoch 22: val_loss improved from 0.00014 to 0.00014, saving model to tmp/ckeckpointer.ckpt\n",
            "150/150 [==============================] - 3s 19ms/step - loss: 7.9926e-05 - mse: 1.5985e-04 - val_loss: 1.3654e-04 - val_mse: 2.7308e-04\n",
            "Epoch 23/50\n",
            "149/150 [============================>.] - ETA: 0s - loss: 7.9651e-05 - mse: 1.5930e-04\n",
            "Epoch 23: val_loss did not improve from 0.00014\n",
            "150/150 [==============================] - 3s 17ms/step - loss: 7.9630e-05 - mse: 1.5926e-04 - val_loss: 1.8060e-04 - val_mse: 3.6120e-04\n",
            "Epoch 24/50\n",
            "148/150 [============================>.] - ETA: 0s - loss: 7.6328e-05 - mse: 1.5266e-04\n",
            "Epoch 24: val_loss improved from 0.00014 to 0.00013, saving model to tmp/ckeckpointer.ckpt\n",
            "150/150 [==============================] - 3s 16ms/step - loss: 7.7869e-05 - mse: 1.5574e-04 - val_loss: 1.3324e-04 - val_mse: 2.6648e-04\n",
            "Epoch 25/50\n",
            "148/150 [============================>.] - ETA: 0s - loss: 8.5132e-05 - mse: 1.7026e-04\n",
            "Epoch 25: val_loss improved from 0.00013 to 0.00013, saving model to tmp/ckeckpointer.ckpt\n",
            "150/150 [==============================] - 3s 16ms/step - loss: 8.6651e-05 - mse: 1.7330e-04 - val_loss: 1.2784e-04 - val_mse: 2.5568e-04\n",
            "Epoch 26/50\n",
            "145/150 [============================>.] - ETA: 0s - loss: 8.6046e-05 - mse: 1.7209e-04\n",
            "Epoch 26: val_loss did not improve from 0.00013\n",
            "150/150 [==============================] - 2s 14ms/step - loss: 8.6117e-05 - mse: 1.7223e-04 - val_loss: 1.2798e-04 - val_mse: 2.5596e-04\n",
            "Epoch 27/50\n",
            "150/150 [==============================] - ETA: 0s - loss: 7.5629e-05 - mse: 1.5126e-04\n",
            "Epoch 27: val_loss did not improve from 0.00013\n",
            "150/150 [==============================] - 2s 15ms/step - loss: 7.5629e-05 - mse: 1.5126e-04 - val_loss: 1.4283e-04 - val_mse: 2.8566e-04\n",
            "Epoch 28/50\n",
            "148/150 [============================>.] - ETA: 0s - loss: 7.0002e-05 - mse: 1.4000e-04\n",
            "Epoch 28: val_loss improved from 0.00013 to 0.00012, saving model to tmp/ckeckpointer.ckpt\n",
            "150/150 [==============================] - 3s 19ms/step - loss: 6.9944e-05 - mse: 1.3989e-04 - val_loss: 1.2353e-04 - val_mse: 2.4705e-04\n",
            "Epoch 29/50\n",
            "150/150 [==============================] - ETA: 0s - loss: 7.2466e-05 - mse: 1.4493e-04\n",
            "Epoch 29: val_loss did not improve from 0.00012\n",
            "150/150 [==============================] - 3s 18ms/step - loss: 7.2466e-05 - mse: 1.4493e-04 - val_loss: 1.3213e-04 - val_mse: 2.6426e-04\n",
            "Epoch 30/50\n",
            "149/150 [============================>.] - ETA: 0s - loss: 7.2321e-05 - mse: 1.4464e-04\n",
            "Epoch 30: val_loss did not improve from 0.00012\n",
            "150/150 [==============================] - 3s 16ms/step - loss: 7.2462e-05 - mse: 1.4492e-04 - val_loss: 1.3051e-04 - val_mse: 2.6102e-04\n",
            "Epoch 31/50\n",
            "146/150 [============================>.] - ETA: 0s - loss: 7.4258e-05 - mse: 1.4852e-04\n",
            "Epoch 31: val_loss improved from 0.00012 to 0.00012, saving model to tmp/ckeckpointer.ckpt\n",
            "150/150 [==============================] - 3s 16ms/step - loss: 7.5034e-05 - mse: 1.5007e-04 - val_loss: 1.1996e-04 - val_mse: 2.3993e-04\n",
            "Epoch 32/50\n",
            "148/150 [============================>.] - ETA: 0s - loss: 6.9430e-05 - mse: 1.3886e-04\n",
            "Epoch 32: val_loss improved from 0.00012 to 0.00011, saving model to tmp/ckeckpointer.ckpt\n",
            "150/150 [==============================] - 4s 24ms/step - loss: 6.9883e-05 - mse: 1.3977e-04 - val_loss: 1.1250e-04 - val_mse: 2.2499e-04\n",
            "Epoch 33/50\n",
            "146/150 [============================>.] - ETA: 0s - loss: 6.7346e-05 - mse: 1.3469e-04\n",
            "Epoch 33: val_loss did not improve from 0.00011\n",
            "150/150 [==============================] - 3s 19ms/step - loss: 6.9075e-05 - mse: 1.3815e-04 - val_loss: 1.1428e-04 - val_mse: 2.2857e-04\n",
            "Epoch 34/50\n",
            "149/150 [============================>.] - ETA: 0s - loss: 7.6646e-05 - mse: 1.5329e-04\n",
            "Epoch 34: val_loss did not improve from 0.00011\n",
            "150/150 [==============================] - 2s 16ms/step - loss: 7.6737e-05 - mse: 1.5347e-04 - val_loss: 1.1854e-04 - val_mse: 2.3707e-04\n",
            "Epoch 35/50\n",
            "146/150 [============================>.] - ETA: 0s - loss: 7.1570e-05 - mse: 1.4314e-04\n",
            "Epoch 35: val_loss improved from 0.00011 to 0.00011, saving model to tmp/ckeckpointer.ckpt\n",
            "150/150 [==============================] - 2s 16ms/step - loss: 7.1496e-05 - mse: 1.4299e-04 - val_loss: 1.1080e-04 - val_mse: 2.2160e-04\n",
            "Epoch 36/50\n",
            "147/150 [============================>.] - ETA: 0s - loss: 6.4401e-05 - mse: 1.2880e-04\n",
            "Epoch 36: val_loss did not improve from 0.00011\n",
            "150/150 [==============================] - 2s 16ms/step - loss: 6.5292e-05 - mse: 1.3058e-04 - val_loss: 1.1839e-04 - val_mse: 2.3678e-04\n",
            "Epoch 37/50\n",
            "149/150 [============================>.] - ETA: 0s - loss: 6.5854e-05 - mse: 1.3171e-04\n",
            "Epoch 37: val_loss improved from 0.00011 to 0.00011, saving model to tmp/ckeckpointer.ckpt\n",
            "150/150 [==============================] - 3s 16ms/step - loss: 6.5910e-05 - mse: 1.3182e-04 - val_loss: 1.0593e-04 - val_mse: 2.1187e-04\n",
            "Epoch 38/50\n",
            "147/150 [============================>.] - ETA: 0s - loss: 6.9942e-05 - mse: 1.3988e-04\n",
            "Epoch 38: val_loss did not improve from 0.00011\n",
            "150/150 [==============================] - 2s 15ms/step - loss: 6.9745e-05 - mse: 1.3949e-04 - val_loss: 1.3309e-04 - val_mse: 2.6617e-04\n",
            "Epoch 39/50\n",
            "145/150 [============================>.] - ETA: 0s - loss: 6.1742e-05 - mse: 1.2348e-04\n",
            "Epoch 39: val_loss did not improve from 0.00011\n",
            "150/150 [==============================] - 3s 16ms/step - loss: 6.3678e-05 - mse: 1.2736e-04 - val_loss: 1.0956e-04 - val_mse: 2.1911e-04\n",
            "Epoch 40/50\n",
            "149/150 [============================>.] - ETA: 0s - loss: 6.6758e-05 - mse: 1.3352e-04\n",
            "Epoch 40: val_loss did not improve from 0.00011\n",
            "150/150 [==============================] - 3s 17ms/step - loss: 6.6827e-05 - mse: 1.3365e-04 - val_loss: 1.2627e-04 - val_mse: 2.5255e-04\n",
            "Epoch 41/50\n",
            "146/150 [============================>.] - ETA: 0s - loss: 5.8601e-05 - mse: 1.1720e-04\n",
            "Epoch 41: val_loss improved from 0.00011 to 0.00010, saving model to tmp/ckeckpointer.ckpt\n",
            "150/150 [==============================] - 3s 17ms/step - loss: 5.9742e-05 - mse: 1.1948e-04 - val_loss: 9.8267e-05 - val_mse: 1.9653e-04\n",
            "Epoch 42/50\n",
            "145/150 [============================>.] - ETA: 0s - loss: 5.8667e-05 - mse: 1.1733e-04\n",
            "Epoch 42: val_loss did not improve from 0.00010\n",
            "150/150 [==============================] - 3s 17ms/step - loss: 5.9966e-05 - mse: 1.1993e-04 - val_loss: 1.7002e-04 - val_mse: 3.4004e-04\n",
            "Epoch 43/50\n",
            "146/150 [============================>.] - ETA: 0s - loss: 6.3489e-05 - mse: 1.2698e-04\n",
            "Epoch 43: val_loss did not improve from 0.00010\n",
            "150/150 [==============================] - 3s 18ms/step - loss: 6.5779e-05 - mse: 1.3156e-04 - val_loss: 9.8758e-05 - val_mse: 1.9752e-04\n",
            "Epoch 44/50\n",
            "149/150 [============================>.] - ETA: 0s - loss: 7.1808e-05 - mse: 1.4362e-04\n",
            "Epoch 44: val_loss did not improve from 0.00010\n",
            "150/150 [==============================] - 3s 16ms/step - loss: 7.1903e-05 - mse: 1.4381e-04 - val_loss: 1.1739e-04 - val_mse: 2.3478e-04\n",
            "Epoch 45/50\n",
            "146/150 [============================>.] - ETA: 0s - loss: 6.5866e-05 - mse: 1.3173e-04\n",
            "Epoch 45: val_loss did not improve from 0.00010\n",
            "150/150 [==============================] - 3s 16ms/step - loss: 6.6200e-05 - mse: 1.3240e-04 - val_loss: 1.0186e-04 - val_mse: 2.0372e-04\n",
            "Epoch 46/50\n",
            "147/150 [============================>.] - ETA: 0s - loss: 5.7621e-05 - mse: 1.1524e-04\n",
            "Epoch 46: val_loss did not improve from 0.00010\n",
            "150/150 [==============================] - 2s 15ms/step - loss: 5.8257e-05 - mse: 1.1651e-04 - val_loss: 1.0668e-04 - val_mse: 2.1336e-04\n",
            "Epoch 47/50\n",
            "149/150 [============================>.] - ETA: 0s - loss: 6.3007e-05 - mse: 1.2601e-04\n",
            "Epoch 47: val_loss did not improve from 0.00010\n",
            "150/150 [==============================] - 3s 16ms/step - loss: 6.3220e-05 - mse: 1.2644e-04 - val_loss: 1.0639e-04 - val_mse: 2.1277e-04\n",
            "Epoch 48/50\n",
            "147/150 [============================>.] - ETA: 0s - loss: 6.1820e-05 - mse: 1.2364e-04\n",
            "Epoch 48: val_loss improved from 0.00010 to 0.00009, saving model to tmp/ckeckpointer.ckpt\n",
            "150/150 [==============================] - 3s 17ms/step - loss: 6.1723e-05 - mse: 1.2345e-04 - val_loss: 9.4856e-05 - val_mse: 1.8971e-04\n",
            "Epoch 49/50\n",
            "147/150 [============================>.] - ETA: 0s - loss: 5.7746e-05 - mse: 1.1549e-04\n",
            "Epoch 49: val_loss improved from 0.00009 to 0.00009, saving model to tmp/ckeckpointer.ckpt\n",
            "150/150 [==============================] - 3s 16ms/step - loss: 5.7866e-05 - mse: 1.1573e-04 - val_loss: 9.4010e-05 - val_mse: 1.8802e-04\n",
            "Epoch 50/50\n",
            "150/150 [==============================] - ETA: 0s - loss: 6.1971e-05 - mse: 1.2394e-04\n",
            "Epoch 50: val_loss did not improve from 0.00009\n",
            "150/150 [==============================] - 3s 17ms/step - loss: 6.1971e-05 - mse: 1.2394e-04 - val_loss: 9.5168e-05 - val_mse: 1.9034e-04\n"
          ]
        }
      ]
    },
    {
      "cell_type": "code",
      "source": [
        "model.load_weights(filename)"
      ],
      "metadata": {
        "colab": {
          "base_uri": "https://localhost:8080/"
        },
        "id": "8dxh6WCYBIxw",
        "outputId": "9516c3f2-c490-4d30-8337-c13f8631a61b"
      },
      "execution_count": 34,
      "outputs": [
        {
          "output_type": "execute_result",
          "data": {
            "text/plain": [
              "<tensorflow.python.training.tracking.util.CheckpointLoadStatus at 0x7fc4ae12ae10>"
            ]
          },
          "metadata": {},
          "execution_count": 34
        }
      ]
    },
    {
      "cell_type": "code",
      "source": [
        "pred = model.predict(test_data)"
      ],
      "metadata": {
        "id": "FNnwN4ryBI0X"
      },
      "execution_count": 35,
      "outputs": []
    },
    {
      "cell_type": "code",
      "source": [
        "pred.shape"
      ],
      "metadata": {
        "colab": {
          "base_uri": "https://localhost:8080/"
        },
        "id": "FGpVNC3tBVRj",
        "outputId": "2eae1839-79ce-4524-da48-96dd0e31d925"
      },
      "execution_count": 36,
      "outputs": [
        {
          "output_type": "execute_result",
          "data": {
            "text/plain": [
              "(1180, 1)"
            ]
          },
          "metadata": {},
          "execution_count": 36
        }
      ]
    },
    {
      "cell_type": "code",
      "source": [
        "plt.figure(figsize=(20, 10))\n",
        "plt.plot(np.asarray(y_test)[20:], label='actual')\n",
        "plt.plot(pred, label='prediction')\n",
        "plt.legend()\n",
        "plt.show()"
      ],
      "metadata": {
        "colab": {
          "base_uri": "https://localhost:8080/",
          "height": 592
        },
        "id": "RdT_jXvhBWpP",
        "outputId": "5c96eaae-6ba1-45a1-999a-485071d6700c"
      },
      "execution_count": 37,
      "outputs": [
        {
          "output_type": "display_data",
          "data": {
            "text/plain": [
              "<Figure size 1440x720 with 1 Axes>"
            ],
            "image/png": "[encoded data removed]"
          },
          "metadata": {
            "needs_background": "light"
          }
        }
      ]
    }
  ]
}