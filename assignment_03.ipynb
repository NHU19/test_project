{
  "nbformat": 4,
  "nbformat_minor": 0,
  "metadata": {
    "colab": {
      "name": "assignment 03.ipynb",
      "provenance": [],
      "collapsed_sections": [],
      "include_colab_link": true
    },
    "kernelspec": {
      "name": "python3",
      "display_name": "Python 3"
    },
    "language_info": {
      "name": "python"
    }
  },
  "cells": [
    {
      "cell_type": "markdown",
      "metadata": {
        "id": "view-in-github",
        "colab_type": "text"
      },
      "source": [
        "<a href=\"https://colab.research.google.com/github/NHU19/test_project/blob/main/assignment_03.ipynb\" target=\"_parent\"><img src=\"https://colab.research.google.com/assets/colab-badge.svg\" alt=\"Open In Colab\"/></a>"
      ]
    },
    {
      "cell_type": "code",
      "execution_count": 1,
      "metadata": {
        "colab": {
          "base_uri": "https://localhost:8080/"
        },
        "id": "UAfUp0YNyjdI",
        "outputId": "f04b805e-60ae-49a8-c6fa-c6a75ff8f995"
      },
      "outputs": [
        {
          "output_type": "stream",
          "name": "stdout",
          "text": [
            "Cloning into 'Deepnoid-Education'...\n",
            "remote: Enumerating objects: 244, done.\u001b[K\n",
            "remote: Counting objects: 100% (144/144), done.\u001b[K\n",
            "remote: Compressing objects: 100% (94/94), done.\u001b[K\n",
            "remote: Total 244 (delta 50), reused 140 (delta 49), pack-reused 100\u001b[K\n",
            "Receiving objects: 100% (244/244), 36.53 MiB | 30.26 MiB/s, done.\n",
            "Resolving deltas: 100% (62/62), done.\n"
          ]
        }
      ],
      "source": [
        "!git clone https://github.com/FlashChoi5657/Deepnoid-Education.git"
      ]
    },
    {
      "cell_type": "code",
      "source": [
        "!pip install simpleitk"
      ],
      "metadata": {
        "colab": {
          "base_uri": "https://localhost:8080/"
        },
        "id": "Hnq8qUBEyptv",
        "outputId": "8d21e382-9291-4b97-c5d2-b8db031c4891"
      },
      "execution_count": 2,
      "outputs": [
        {
          "output_type": "stream",
          "name": "stdout",
          "text": [
            "Looking in indexes: https://pypi.org/simple, https://us-python.pkg.dev/colab-wheels/public/simple/\n",
            "Collecting simpleitk\n",
            "  Downloading SimpleITK-2.1.1.2-cp37-cp37m-manylinux_2_12_x86_64.manylinux2010_x86_64.whl (48.4 MB)\n",
            "\u001b[K     |████████████████████████████████| 48.4 MB 1.7 MB/s \n",
            "\u001b[?25hInstalling collected packages: simpleitk\n",
            "Successfully installed simpleitk-2.1.1.2\n"
          ]
        }
      ]
    },
    {
      "cell_type": "code",
      "source": [
        "import SimpleITK as sitk\n",
        "from skimage.transform import rotate\n",
        "import cv2 as cv\n",
        "from keras.preprocessing import image as kimg\n",
        "import numpy as np"
      ],
      "metadata": {
        "id": "CaFMThnUysUG"
      },
      "execution_count": 3,
      "outputs": []
    },
    {
      "cell_type": "code",
      "source": [
        "test_data = './Deepnoid-Education/dataset/test.dcm'\n",
        "#############################\n",
        "# fill the blank\n",
        "# original image 와 augmentation 한 image를 4장을 만드세요 \n",
        "# 5장의 이미지를 하나의 array로 만드세요\n",
        "# array를 마지막에 있는 display의 argument로 넣어서 현재 출력된 이미지와 유사하도록 만드세요\n",
        "test_data\n"
      ],
      "metadata": {
        "id": "DSbpzqfcyviw",
        "colab": {
          "base_uri": "https://localhost:8080/",
          "height": 35
        },
        "outputId": "b2d5e550-369a-4b4d-d91b-8b9dbd8896ef"
      },
      "execution_count": 7,
      "outputs": [
        {
          "output_type": "execute_result",
          "data": {
            "text/plain": [
              "'./Deepnoid-Education/dataset/test.dcm'"
            ],
            "application/vnd.google.colaboratory.intrinsic+json": {
              "type": "string"
            }
          },
          "metadata": {},
          "execution_count": 7
        }
      ]
    },
    {
      "cell_type": "code",
      "source": [
        "# display 함수는 수정하지 말고 그대로 사용해주세요.\n",
        "def display(array):\n",
        "  import matplotlib.pyplot as plt\n",
        "  for i in range(array.shape[0]):\n",
        "    plt.imshow(array[i], cmap='gray')\n",
        "    plt.show()"
      ],
      "metadata": {
        "id": "PuCfv98MzdcS"
      },
      "execution_count": 8,
      "outputs": []
    },
    {
      "cell_type": "code",
      "source": [
        "# display 함수를 이용해 아래와 같은 이미지를 출력하세요.\n",
        "\n",
        "display(test_data)"
      ],
      "metadata": {
        "colab": {
          "base_uri": "https://localhost:8080/",
          "height": 131
        },
        "id": "f_IABV1B1R4O",
        "outputId": "ba316762-572d-4bd9-dfdd-9e556b3361b8"
      },
      "execution_count": 10,
      "outputs": [
        {
          "output_type": "error",
          "ename": "SyntaxError",
          "evalue": "ignored",
          "traceback": [
            "\u001b[0;36m  File \u001b[0;32m\"<ipython-input-10-df3749dbb9d7>\"\u001b[0;36m, line \u001b[0;32m3\u001b[0m\n\u001b[0;31m    display(test_data):\u001b[0m\n\u001b[0m                       ^\u001b[0m\n\u001b[0;31mSyntaxError\u001b[0m\u001b[0;31m:\u001b[0m invalid syntax\n"
          ]
        }
      ]
    },
    {
      "cell_type": "code",
      "source": [
        ""
      ],
      "metadata": {
        "id": "_xeCXE2X1iY-"
      },
      "execution_count": null,
      "outputs": []
    }
  ]
}